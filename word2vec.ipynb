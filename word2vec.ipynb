{
 "cells": [
  {
   "cell_type": "code",
   "execution_count": 2,
   "id": "50ec5170-7410-499a-a5ce-8c63e897558a",
   "metadata": {},
   "outputs": [],
   "source": [
    "import re, os, string\n",
    "import pandas as pd\n",
    "import numpy as np\n",
    "import matplotlib.pyplot as plt\n",
    "import os\n",
    "import string\n",
    "from gensim.models import Word2Vec\n",
    "from gensim.models.fasttext import FastText\n",
    "import gensim.models.keyedvectors as word2vec\n",
    "from sklearn.manifold import TSNE"
   ]
  },
  {
   "cell_type": "code",
   "execution_count": 21,
   "id": "662d011e-3001-48d0-9828-7beba7481149",
   "metadata": {},
   "outputs": [
    {
     "name": "stdout",
     "output_type": "stream",
     "text": [
      "[['danh_sách', 'tác_phẩm', 'doraemon'], ['doraemon', 'nguyên_tác', 'là', 'xê', 'ri', 'anime', 'và', 'manga', 'được', 'sáng_tác', 'bởi', 'fujiko_f'], ['bắt_đầu_từ', 'những', 'chương', 'truyện', 'nhỏ', 'đăng', 'trên', 'tạp_chí', 'tháng', 'corocoro', 'comic', 'sau', 'đó', 'shogakukan', 'tập_hợp', 'lại', 'phát_hành', 'theo', 'cuốn', 'từ', 'tập', '1', 'đến', 'tập', '45'], ['sau', 'đó', 'chuyển_thể', 'thành', 'anime', 'theo', 'ba', 'giai_đoạn', 'phim', 'hoạt_hình', '1973', '1979', '2005', 'và', '2005'], ['năm', '2014', 'viz_media', 'mua', 'bản_quyền', 'mỹ_hóa', 'các', 'yếu_tố', 'trong', 'phim', 'như', 'tên', 'nhân_vật', 'địa_điểm'], ['và', 'phát_sóng', 'trên', 'disney', 'xd', 'kể', 'từ', '7', 'tháng', '7'], ['xê', 'ri', 'cũng', 'được', 'chuyển_thể', 'thành', 'nhiều', 'tác_phẩm', 'khác', 'nhau', 'như', 'doraemon_plus', 'truyện_ngắn', 'truyện_dài', 'phim', 'điện_ảnh', 'trò_chơi', 'điện_tử', 'nhạc_kịch', 'băng_đĩa'], ['dưới', 'đây', 'là', 'danh_sách', 'các', 'tác_phẩm', 'về', 'doraemon', 'được', 'phát_hành'], ['được', 'ra_mắt', 'lần', 'đầu', 'dưới', 'dạng', 'các', 'chương', 'truyện', 'riêng_lẻ', 'được', 'đăng', 'trên', 'các', 'tạp_chí', 'khác', 'nhau', 'của', 'shogakukan', 'từ', '1969'], ['sau', 'đó', 'được', 'tập_hợp', 'lại', 'thành', 'cuốn', 'phát_hành', 'có', 'tổng_cộng', '45', 'tập', 'truyện_ngắn', 'ra_đời']]\n"
     ]
    }
   ],
   "source": [
    "with open('./datatrain.txt', 'r', encoding='utf-8') as f:\n",
    "    lines = [line.strip() for line in f.readlines()]\n",
    "    lines = [line.split() for line in lines if line != '']\n",
    "    print(lines[:10])"
   ]
  },
  {
   "cell_type": "code",
   "execution_count": 8,
   "id": "00281ad5-0ed3-4a9e-bd70-4b63685dc4ca",
   "metadata": {},
   "outputs": [
    {
     "data": {
      "text/plain": [
       "306855"
      ]
     },
     "execution_count": 8,
     "metadata": {},
     "output_type": "execute_result"
    }
   ],
   "source": [
    "len(lines)"
   ]
  },
  {
   "cell_type": "code",
   "execution_count": 22,
   "id": "9c068a81-a08a-4b24-9535-4895bce10f2a",
   "metadata": {},
   "outputs": [],
   "source": [
    "model = Word2Vec(lines, vector_size=150, window=5, min_count=2, workers=-1, sg=1)\n",
    "model.wv.save(\"model/word2vec_skipgram.model\")"
   ]
  },
  {
   "cell_type": "code",
   "execution_count": 23,
   "id": "fd300153-88d9-4ca8-b530-2ee7374d6543",
   "metadata": {},
   "outputs": [],
   "source": [
    "model_fasttext = FastText(lines, vector_size=150, window=5, min_count=2, workers=-1, sg=1)\n",
    "model_fasttext.wv.save(\"model/fasttext_gensim.model\")"
   ]
  },
  {
   "cell_type": "markdown",
   "id": "e7541ea1-da8a-43ae-88e8-ecbfe9729c74",
   "metadata": {},
   "source": [
    "# Visualize"
   ]
  },
  {
   "cell_type": "code",
   "execution_count": 45,
   "id": "59323a07-cb72-4aac-9b93-8a953862ef68",
   "metadata": {},
   "outputs": [],
   "source": [
    "model = word2vec.KeyedVectors.load('model/word2vec_skipgram.model')\n",
    "# model = word2vec.KeyedVectors.load('model/fasttext_gensim.model')"
   ]
  },
  {
   "cell_type": "code",
   "execution_count": 41,
   "id": "2963a5b5-1d6a-4521-ae24-fc8558b644a0",
   "metadata": {},
   "outputs": [
    {
     "name": "stdout",
     "output_type": "stream",
     "text": [
      "(4, 150)\n"
     ]
    }
   ],
   "source": [
    "words = ['đàn_ông', 'phụ_nữ', 'hoàng_hậu', 'vua']\n",
    "words_np = []\n",
    "words_label = []\n",
    "\n",
    "for word in model.index_to_key:\n",
    "    if word in words:\n",
    "        words_np.append(model[word])\n",
    "        words_label.append(word)\n",
    "        \n",
    "words_np = np.array(words_np)\n",
    "words_label = np.array(words_label)\n",
    "print(words_np.shape)\n",
    "reduced = TSNE(n_components=2, perplexity=min(30, len(words_np)-1)).fit_transform(words_np)"
   ]
  },
  {
   "cell_type": "code",
   "execution_count": 42,
   "id": "af65fac5-6ffc-4f30-b80c-e2b654f59b90",
   "metadata": {},
   "outputs": [
    {
     "data": {
      "image/png": "[encoded data removed]",
      "text/plain": [
       "<Figure size 640x480 with 1 Axes>"
      ]
     },
     "metadata": {},
     "output_type": "display_data"
    }
   ],
   "source": [
    "fig, ax = plt.subplots()\n",
    "\n",
    "for index, vec in enumerate(reduced):\n",
    "    x, y = vec[0], vec[1]\n",
    "\n",
    "    ax.scatter(x, y)\n",
    "    ax.annotate(words_label[index], xy=(x, y))\n",
    "\n",
    "plt.show()"
   ]
  },
  {
   "cell_type": "code",
   "execution_count": 49,
   "id": "860403e0-a34a-4dd2-9495-6c13ba5630f2",
   "metadata": {},
   "outputs": [
    {
     "data": {
      "text/plain": [
       "[('yết_hầu', 0.3365514278411865),\n",
       " ('hubeicus', 0.32707855105400085),\n",
       " ('citronellal', 0.32092663645744324),\n",
       " ('lang_shining', 0.3162447512149811),\n",
       " ('harry_styles', 0.3115687668323517),\n",
       " ('webbiana', 0.3094695508480072),\n",
       " ('gaga', 0.30670714378356934),\n",
       " ('công_vụ', 0.3000938296318054),\n",
       " ('tarentaine', 0.29834315180778503),\n",
       " ('1903', 0.2974766790866852)]"
      ]
     },
     "execution_count": 49,
     "metadata": {},
     "output_type": "execute_result"
    }
   ],
   "source": [
    "model = word2vec.KeyedVectors.load('model/word2vec_skipgram.model')\n",
    "model.most_similar('vui_vẻ', topn=10)"
   ]
  },
  {
   "cell_type": "code",
   "execution_count": 50,
   "id": "d65840b0-02ef-472b-b80b-1bc02ef5bdc1",
   "metadata": {},
   "outputs": [
    {
     "data": {
      "text/plain": [
       "[('vui_đùa', 0.377644419670105),\n",
       " ('cái_vẻ', 0.35690513253211975),\n",
       " ('sếp', 0.3338512182235718),\n",
       " ('vui_tươi', 0.33233949542045593),\n",
       " ('ra_vẻ', 0.32872480154037476),\n",
       " ('đắk_glei', 0.3228861391544342),\n",
       " ('vui_chơi', 0.31301769614219666),\n",
       " ('hầu_đốc', 0.31124457716941833),\n",
       " ('tiki', 0.31033486127853394),\n",
       " ('16cm', 0.3063037395477295)]"
      ]
     },
     "execution_count": 50,
     "metadata": {},
     "output_type": "execute_result"
    }
   ],
   "source": [
    "model = word2vec.KeyedVectors.load('model/fasttext_gensim.model')\n",
    "model.most_similar('vui_vẻ', topn=10)"
   ]
  },
  {
   "cell_type": "code",
   "execution_count": null,
   "id": "286924fc-1d59-4266-ace3-24bdd50a6b85",
   "metadata": {},
   "outputs": [],
   "source": []
  }
 ],
 "metadata": {
  "kernelspec": {
   "display_name": "Python 3 (ipykernel)",
   "language": "python",
   "name": "python3"
  },
  "language_info": {
   "codemirror_mode": {
    "name": "ipython",
    "version": 3
   },
   "file_extension": ".py",
   "mimetype": "text/x-python",
   "name": "python",
   "nbconvert_exporter": "python",
   "pygments_lexer": "ipython3",
   "version": "3.10.9"
  }
 },
 "nbformat": 4,
 "nbformat_minor": 5
}
